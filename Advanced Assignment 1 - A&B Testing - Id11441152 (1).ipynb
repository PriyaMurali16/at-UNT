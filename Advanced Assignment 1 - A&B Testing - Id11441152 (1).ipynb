{
 "cells": [
  {
   "cell_type": "markdown",
   "id": "1e8c3240",
   "metadata": {},
   "source": [
    "# Importing all important libraries"
   ]
  },
  {
   "cell_type": "code",
   "execution_count": 1,
   "id": "bce0724d",
   "metadata": {},
   "outputs": [],
   "source": [
    "import pandas as pd\n",
    "import numpy as np\n",
    "import random\n",
    "import matplotlib.pyplot as plt\n",
    "%matplotlib inline\n",
    "\n",
    "random.seed(42)"
   ]
  },
  {
   "cell_type": "markdown",
   "id": "c4ec0514",
   "metadata": {},
   "source": [
    "Why do we enter a seed value?\n",
    "\n",
    "1) Seed value is used to store the random value generated. \n",
    "\n",
    "2) Everytime you run the random function it prevents creation of new random values."
   ]
  },
  {
   "cell_type": "markdown",
   "id": "09356c78",
   "metadata": {},
   "source": [
    "# Load the data"
   ]
  },
  {
   "cell_type": "markdown",
   "id": "9525706a",
   "metadata": {},
   "source": [
    "There are two ways to do it.\n",
    "1) Using file path\n",
    "\n",
    "2) Upload the file to Jupyter environment and use it directly"
   ]
  },
  {
   "cell_type": "code",
   "execution_count": 2,
   "id": "bddaea89",
   "metadata": {},
   "outputs": [],
   "source": [
    "df = pd.read_csv(\"ab_data.csv\") ##Using the second method"
   ]
  },
  {
   "cell_type": "markdown",
   "id": "67b784f3",
   "metadata": {},
   "source": [
    "# Explore the data\n"
   ]
  },
  {
   "cell_type": "markdown",
   "id": "f4295744",
   "metadata": {},
   "source": [
    "***What is the head () function used for?***\n",
    "\n",
    "Head function displays few rows and columns giving us a glimpse of the dataset and it's columns\n",
    "\n",
    "1) You can mention the number of records to display in the bracket or by default it shows 5.\n",
    "\n",
    "*****There is a tail function which displays the bottom records. The syntax is same as that for head function*****\n",
    "\n",
    "--Note that the index for rows and columns starts from 0.--"
   ]
  },
  {
   "cell_type": "code",
   "execution_count": 3,
   "id": "2e5d190d",
   "metadata": {},
   "outputs": [
    {
     "data": {
      "text/html": [
       "<div>\n",
       "<style scoped>\n",
       "    .dataframe tbody tr th:only-of-type {\n",
       "        vertical-align: middle;\n",
       "    }\n",
       "\n",
       "    .dataframe tbody tr th {\n",
       "        vertical-align: top;\n",
       "    }\n",
       "\n",
       "    .dataframe thead th {\n",
       "        text-align: right;\n",
       "    }\n",
       "</style>\n",
       "<table border=\"1\" class=\"dataframe\">\n",
       "  <thead>\n",
       "    <tr style=\"text-align: right;\">\n",
       "      <th></th>\n",
       "      <th>user_id</th>\n",
       "      <th>timestamp</th>\n",
       "      <th>group</th>\n",
       "      <th>landing_page</th>\n",
       "      <th>converted</th>\n",
       "    </tr>\n",
       "  </thead>\n",
       "  <tbody>\n",
       "    <tr>\n",
       "      <th>0</th>\n",
       "      <td>851104</td>\n",
       "      <td>11:48.6</td>\n",
       "      <td>control</td>\n",
       "      <td>old_page</td>\n",
       "      <td>0</td>\n",
       "    </tr>\n",
       "    <tr>\n",
       "      <th>1</th>\n",
       "      <td>804228</td>\n",
       "      <td>01:45.2</td>\n",
       "      <td>control</td>\n",
       "      <td>old_page</td>\n",
       "      <td>0</td>\n",
       "    </tr>\n",
       "    <tr>\n",
       "      <th>2</th>\n",
       "      <td>661590</td>\n",
       "      <td>55:06.2</td>\n",
       "      <td>treatment</td>\n",
       "      <td>new_page</td>\n",
       "      <td>0</td>\n",
       "    </tr>\n",
       "    <tr>\n",
       "      <th>3</th>\n",
       "      <td>853541</td>\n",
       "      <td>28:03.1</td>\n",
       "      <td>treatment</td>\n",
       "      <td>new_page</td>\n",
       "      <td>0</td>\n",
       "    </tr>\n",
       "    <tr>\n",
       "      <th>4</th>\n",
       "      <td>864975</td>\n",
       "      <td>52:26.2</td>\n",
       "      <td>control</td>\n",
       "      <td>old_page</td>\n",
       "      <td>1</td>\n",
       "    </tr>\n",
       "  </tbody>\n",
       "</table>\n",
       "</div>"
      ],
      "text/plain": [
       "   user_id timestamp      group landing_page  converted\n",
       "0   851104   11:48.6    control     old_page          0\n",
       "1   804228   01:45.2    control     old_page          0\n",
       "2   661590   55:06.2  treatment     new_page          0\n",
       "3   853541   28:03.1  treatment     new_page          0\n",
       "4   864975   52:26.2    control     old_page          1"
      ]
     },
     "execution_count": 3,
     "metadata": {},
     "output_type": "execute_result"
    }
   ],
   "source": [
    "df.head()"
   ]
  },
  {
   "cell_type": "markdown",
   "id": "dab94e4c",
   "metadata": {},
   "source": [
    "***What is shape () function used for?***\n",
    "\n",
    "It shows the number of rows and columns in the dataframe."
   ]
  },
  {
   "cell_type": "code",
   "execution_count": 4,
   "id": "d0557f95",
   "metadata": {},
   "outputs": [
    {
     "data": {
      "text/plain": [
       "(294478, 5)"
      ]
     },
     "execution_count": 4,
     "metadata": {},
     "output_type": "execute_result"
    }
   ],
   "source": [
    "df.shape\n"
   ]
  },
  {
   "cell_type": "markdown",
   "id": "623f5efe",
   "metadata": {},
   "source": [
    "***What is nunique () function used for?***\n",
    "\n",
    "This function is used to COUNT the number of unique values in a particular column.\n",
    "\n",
    "Note that it is different from the unique() function.\n",
    "The unique() function gives an array which contains ALL the unique values.\n"
   ]
  },
  {
   "cell_type": "code",
   "execution_count": 5,
   "id": "61b1db92",
   "metadata": {},
   "outputs": [
    {
     "data": {
      "text/plain": [
       "290584"
      ]
     },
     "execution_count": 5,
     "metadata": {},
     "output_type": "execute_result"
    }
   ],
   "source": [
    "df['user_id'].nunique() "
   ]
  },
  {
   "cell_type": "code",
   "execution_count": 6,
   "id": "aa03215a",
   "metadata": {},
   "outputs": [
    {
     "data": {
      "text/plain": [
       "array([851104, 804228, 661590, ..., 734608, 697314, 715931], dtype=int64)"
      ]
     },
     "execution_count": 6,
     "metadata": {},
     "output_type": "execute_result"
    }
   ],
   "source": [
    "df['user_id'].unique() "
   ]
  },
  {
   "cell_type": "markdown",
   "id": "3aa7f036",
   "metadata": {},
   "source": [
    "***What is converted.mean () function used for?***\n",
    "\n",
    "It is used to calculate the mean() function of values in a column.\n",
    "\n",
    "Here it is taking mean of values in \"coverted\" column.\n",
    "\n",
    "It can also be written like this :\n",
    "\n",
    "df[\"converted\"].mean()"
   ]
  },
  {
   "cell_type": "code",
   "execution_count": 7,
   "id": "86628606",
   "metadata": {},
   "outputs": [
    {
     "data": {
      "text/plain": [
       "0.11965919355605512"
      ]
     },
     "execution_count": 7,
     "metadata": {},
     "output_type": "execute_result"
    }
   ],
   "source": [
    "df.converted.mean()"
   ]
  },
  {
   "cell_type": "code",
   "execution_count": 8,
   "id": "fd5bbd44",
   "metadata": {},
   "outputs": [
    {
     "data": {
      "text/plain": [
       "0.11965919355605512"
      ]
     },
     "execution_count": 8,
     "metadata": {},
     "output_type": "execute_result"
    }
   ],
   "source": [
    "df[\"converted\"].mean()"
   ]
  },
  {
   "cell_type": "markdown",
   "id": "1b4886d1",
   "metadata": {},
   "source": [
    "***I am going to break the following code to understand what it performs.***\n",
    "\n",
    "df[((df['group'] == 'treatment') == (df['landing_page'] == 'new_page')) == False].count()"
   ]
  },
  {
   "cell_type": "code",
   "execution_count": 9,
   "id": "234f7ccd",
   "metadata": {},
   "outputs": [
    {
     "data": {
      "text/plain": [
       "0         False\n",
       "1         False\n",
       "2          True\n",
       "3          True\n",
       "4         False\n",
       "          ...  \n",
       "294473    False\n",
       "294474    False\n",
       "294475    False\n",
       "294476    False\n",
       "294477     True\n",
       "Name: group, Length: 294478, dtype: bool"
      ]
     },
     "execution_count": 9,
     "metadata": {},
     "output_type": "execute_result"
    }
   ],
   "source": [
    "## Returns a column with index and boolean values\n",
    "##ie. where any value in the group column has value \"treatment\"\n",
    "(df['group'] == 'treatment') "
   ]
  },
  {
   "cell_type": "code",
   "execution_count": 10,
   "id": "7f82d3ca",
   "metadata": {},
   "outputs": [
    {
     "data": {
      "text/plain": [
       "0         False\n",
       "1         False\n",
       "2          True\n",
       "3          True\n",
       "4         False\n",
       "          ...  \n",
       "294473    False\n",
       "294474    False\n",
       "294475    False\n",
       "294476    False\n",
       "294477     True\n",
       "Name: landing_page, Length: 294478, dtype: bool"
      ]
     },
     "execution_count": 10,
     "metadata": {},
     "output_type": "execute_result"
    }
   ],
   "source": [
    "(df['landing_page'] == 'new_page')"
   ]
  },
  {
   "cell_type": "markdown",
   "id": "1b96bf78",
   "metadata": {},
   "source": [
    "df[((df['group'] == 'treatment') == (df['landing_page'] == 'new_page')) == False \n",
    "\n",
    "Assume the values returned by the above statement :\n",
    "\n",
    "    (True==True) --- is True \n",
    "    (False==False)--- is True\n",
    "    (False==True)--- is False ##This is the condition we are checking"
   ]
  },
  {
   "cell_type": "code",
   "execution_count": 11,
   "id": "fa667786",
   "metadata": {},
   "outputs": [
    {
     "data": {
      "text/plain": [
       "0         False\n",
       "1         False\n",
       "2         False\n",
       "3         False\n",
       "4         False\n",
       "          ...  \n",
       "294473    False\n",
       "294474    False\n",
       "294475    False\n",
       "294476    False\n",
       "294477    False\n",
       "Length: 294478, dtype: bool"
      ]
     },
     "execution_count": 11,
     "metadata": {},
     "output_type": "execute_result"
    }
   ],
   "source": [
    "((df['group'] == 'treatment') == (df['landing_page'] == 'new_page')) == False"
   ]
  },
  {
   "cell_type": "markdown",
   "id": "df56a071",
   "metadata": {},
   "source": [
    "We are checking whether they are in the treatment group with either landing page or in the new landing page but either group.\n",
    "\n",
    "Note : We are not checking the main condition here (ie. are we getting conversions).\n"
   ]
  },
  {
   "cell_type": "code",
   "execution_count": 12,
   "id": "5167173d",
   "metadata": {},
   "outputs": [
    {
     "data": {
      "text/plain": [
       "user_id         3893\n",
       "timestamp       3893\n",
       "group           3893\n",
       "landing_page    3893\n",
       "converted       3893\n",
       "dtype: int64"
      ]
     },
     "execution_count": 12,
     "metadata": {},
     "output_type": "execute_result"
    }
   ],
   "source": [
    "##We are counting the number of such cases.\n",
    "df[((df['group'] == 'treatment') == (df['landing_page'] == 'new_page')) == False].count()"
   ]
  },
  {
   "cell_type": "code",
   "execution_count": 14,
   "id": "e1afe7ec",
   "metadata": {},
   "outputs": [
    {
     "name": "stdout",
     "output_type": "stream",
     "text": [
      "<class 'pandas.core.frame.DataFrame'>\n",
      "RangeIndex: 294478 entries, 0 to 294477\n",
      "Data columns (total 5 columns):\n",
      " #   Column        Non-Null Count   Dtype \n",
      "---  ------        --------------   ----- \n",
      " 0   user_id       294478 non-null  int64 \n",
      " 1   timestamp     294478 non-null  object\n",
      " 2   group         294478 non-null  object\n",
      " 3   landing_page  294478 non-null  object\n",
      " 4   converted     294478 non-null  int64 \n",
      "dtypes: int64(2), object(3)\n",
      "memory usage: 11.2+ MB\n"
     ]
    }
   ],
   "source": [
    "## the info function displays the type and number of values in each column.\n",
    "## this function is often sometimes confused with the describe() function - this function \n",
    "## displays the mean,range,standard deviation etc of numerical columns.\n",
    "df.info()\n",
    "\n"
   ]
  },
  {
   "cell_type": "code",
   "execution_count": 16,
   "id": "5a212c88",
   "metadata": {},
   "outputs": [
    {
     "data": {
      "text/html": [
       "<div>\n",
       "<style scoped>\n",
       "    .dataframe tbody tr th:only-of-type {\n",
       "        vertical-align: middle;\n",
       "    }\n",
       "\n",
       "    .dataframe tbody tr th {\n",
       "        vertical-align: top;\n",
       "    }\n",
       "\n",
       "    .dataframe thead th {\n",
       "        text-align: right;\n",
       "    }\n",
       "</style>\n",
       "<table border=\"1\" class=\"dataframe\">\n",
       "  <thead>\n",
       "    <tr style=\"text-align: right;\">\n",
       "      <th></th>\n",
       "      <th>count</th>\n",
       "      <th>mean</th>\n",
       "      <th>std</th>\n",
       "      <th>min</th>\n",
       "      <th>25%</th>\n",
       "      <th>50%</th>\n",
       "      <th>75%</th>\n",
       "      <th>max</th>\n",
       "    </tr>\n",
       "  </thead>\n",
       "  <tbody>\n",
       "    <tr>\n",
       "      <th>user_id</th>\n",
       "      <td>294478.0</td>\n",
       "      <td>787974.124733</td>\n",
       "      <td>91210.823776</td>\n",
       "      <td>630000.0</td>\n",
       "      <td>709032.25</td>\n",
       "      <td>787933.5</td>\n",
       "      <td>866911.75</td>\n",
       "      <td>945999.0</td>\n",
       "    </tr>\n",
       "    <tr>\n",
       "      <th>converted</th>\n",
       "      <td>294478.0</td>\n",
       "      <td>0.119659</td>\n",
       "      <td>0.324563</td>\n",
       "      <td>0.0</td>\n",
       "      <td>0.00</td>\n",
       "      <td>0.0</td>\n",
       "      <td>0.00</td>\n",
       "      <td>1.0</td>\n",
       "    </tr>\n",
       "  </tbody>\n",
       "</table>\n",
       "</div>"
      ],
      "text/plain": [
       "              count           mean           std       min        25%  \\\n",
       "user_id    294478.0  787974.124733  91210.823776  630000.0  709032.25   \n",
       "converted  294478.0       0.119659      0.324563       0.0       0.00   \n",
       "\n",
       "                50%        75%       max  \n",
       "user_id    787933.5  866911.75  945999.0  \n",
       "converted       0.0       0.00       1.0  "
      ]
     },
     "execution_count": 16,
     "metadata": {},
     "output_type": "execute_result"
    }
   ],
   "source": [
    "df.describe().T"
   ]
  },
  {
   "cell_type": "code",
   "execution_count": null,
   "id": "3824bc00",
   "metadata": {},
   "outputs": [],
   "source": [
    "i = df[((df['group']=='treatment') ==(df['landing_page']=='new_page')) == False].index"
   ]
  },
  {
   "cell_type": "markdown",
   "id": "3d48e882",
   "metadata": {
    "scrolled": true
   },
   "source": [
    "Do any of the rows have missing values? \n",
    "\n",
    "\n",
    "dataframe[\"column_name\"].isnull().sum()"
   ]
  },
  {
   "cell_type": "code",
   "execution_count": 19,
   "id": "ff5d79a8",
   "metadata": {},
   "outputs": [
    {
     "data": {
      "text/plain": [
       "0"
      ]
     },
     "execution_count": 19,
     "metadata": {},
     "output_type": "execute_result"
    }
   ],
   "source": [
    "df[\"user_id\"].isnull().sum()"
   ]
  },
  {
   "cell_type": "code",
   "execution_count": 20,
   "id": "d9204e42",
   "metadata": {},
   "outputs": [],
   "source": [
    "##The following code is extracting all the index values of those which satisfy the below condition.\n",
    "##It stores it as an array i\n",
    "i = df[((df['group']=='treatment') ==(df['landing_page']=='new_page')) == False].index"
   ]
  },
  {
   "cell_type": "code",
   "execution_count": 21,
   "id": "f42afa11",
   "metadata": {},
   "outputs": [
    {
     "data": {
      "text/plain": [
       "Int64Index([    22,    240,    308,    327,    357,    490,    685,    713,\n",
       "               776,    846,\n",
       "            ...\n",
       "            293817, 293888, 293894, 293917, 293996, 294014, 294200, 294252,\n",
       "            294253, 294331],\n",
       "           dtype='int64', length=3893)"
      ]
     },
     "execution_count": 21,
     "metadata": {},
     "output_type": "execute_result"
    }
   ],
   "source": [
    "i"
   ]
  },
  {
   "cell_type": "markdown",
   "id": "c9aab093",
   "metadata": {},
   "source": [
    "We dont know if people under treatment group are going to the new landing page and that people in the control group are going to \n",
    "the old landing page.\n",
    "Hence we are going to remove those uncertainities by using the drop function and creating a new dataframe df2."
   ]
  },
  {
   "cell_type": "code",
   "execution_count": 22,
   "id": "be869926",
   "metadata": {},
   "outputs": [],
   "source": [
    "df.drop(i)\n",
    "df2=df.drop(i)\n"
   ]
  },
  {
   "cell_type": "code",
   "execution_count": 23,
   "id": "a76e645d",
   "metadata": {},
   "outputs": [
    {
     "data": {
      "text/html": [
       "<div>\n",
       "<style scoped>\n",
       "    .dataframe tbody tr th:only-of-type {\n",
       "        vertical-align: middle;\n",
       "    }\n",
       "\n",
       "    .dataframe tbody tr th {\n",
       "        vertical-align: top;\n",
       "    }\n",
       "\n",
       "    .dataframe thead th {\n",
       "        text-align: right;\n",
       "    }\n",
       "</style>\n",
       "<table border=\"1\" class=\"dataframe\">\n",
       "  <thead>\n",
       "    <tr style=\"text-align: right;\">\n",
       "      <th></th>\n",
       "      <th>user_id</th>\n",
       "      <th>timestamp</th>\n",
       "      <th>group</th>\n",
       "      <th>landing_page</th>\n",
       "      <th>converted</th>\n",
       "    </tr>\n",
       "  </thead>\n",
       "  <tbody>\n",
       "    <tr>\n",
       "      <th>0</th>\n",
       "      <td>851104</td>\n",
       "      <td>11:48.6</td>\n",
       "      <td>control</td>\n",
       "      <td>old_page</td>\n",
       "      <td>0</td>\n",
       "    </tr>\n",
       "    <tr>\n",
       "      <th>1</th>\n",
       "      <td>804228</td>\n",
       "      <td>01:45.2</td>\n",
       "      <td>control</td>\n",
       "      <td>old_page</td>\n",
       "      <td>0</td>\n",
       "    </tr>\n",
       "    <tr>\n",
       "      <th>2</th>\n",
       "      <td>661590</td>\n",
       "      <td>55:06.2</td>\n",
       "      <td>treatment</td>\n",
       "      <td>new_page</td>\n",
       "      <td>0</td>\n",
       "    </tr>\n",
       "    <tr>\n",
       "      <th>3</th>\n",
       "      <td>853541</td>\n",
       "      <td>28:03.1</td>\n",
       "      <td>treatment</td>\n",
       "      <td>new_page</td>\n",
       "      <td>0</td>\n",
       "    </tr>\n",
       "    <tr>\n",
       "      <th>4</th>\n",
       "      <td>864975</td>\n",
       "      <td>52:26.2</td>\n",
       "      <td>control</td>\n",
       "      <td>old_page</td>\n",
       "      <td>1</td>\n",
       "    </tr>\n",
       "  </tbody>\n",
       "</table>\n",
       "</div>"
      ],
      "text/plain": [
       "   user_id timestamp      group landing_page  converted\n",
       "0   851104   11:48.6    control     old_page          0\n",
       "1   804228   01:45.2    control     old_page          0\n",
       "2   661590   55:06.2  treatment     new_page          0\n",
       "3   853541   28:03.1  treatment     new_page          0\n",
       "4   864975   52:26.2    control     old_page          1"
      ]
     },
     "execution_count": 23,
     "metadata": {},
     "output_type": "execute_result"
    }
   ],
   "source": [
    "df2.head()"
   ]
  },
  {
   "cell_type": "markdown",
   "id": "e8dc0c07",
   "metadata": {},
   "source": [
    "This below code must return 0. Why ?\n",
    "\n",
    "We have now made sure that the treatment group goes with new landing page and control group with old landing page.\n",
    "\n",
    "> (True==True) --- is True --- make sure True is returned to check it against False.\n",
    "\n",
    "> (False==False)--- is True --- make sure True is returned to check it against False.\n"
   ]
  },
  {
   "cell_type": "code",
   "execution_count": 26,
   "id": "db551cd1",
   "metadata": {},
   "outputs": [
    {
     "data": {
      "text/plain": [
       "0"
      ]
     },
     "execution_count": 26,
     "metadata": {},
     "output_type": "execute_result"
    }
   ],
   "source": [
    "df2[((df2['group'] == 'treatment') == (df2['landing_page'] == 'new_page')) == False].shape[0]\n",
    "\n",
    "##Shape gives row,column - so index 0 indicates number of rows which should be zero."
   ]
  },
  {
   "cell_type": "code",
   "execution_count": 27,
   "id": "35f51044",
   "metadata": {},
   "outputs": [
    {
     "data": {
      "text/plain": [
       "290584"
      ]
     },
     "execution_count": 27,
     "metadata": {},
     "output_type": "execute_result"
    }
   ],
   "source": [
    "df2['user_id'].nunique()"
   ]
  },
  {
   "cell_type": "code",
   "execution_count": 31,
   "id": "086d11a3",
   "metadata": {},
   "outputs": [
    {
     "data": {
      "text/html": [
       "<div>\n",
       "<style scoped>\n",
       "    .dataframe tbody tr th:only-of-type {\n",
       "        vertical-align: middle;\n",
       "    }\n",
       "\n",
       "    .dataframe tbody tr th {\n",
       "        vertical-align: top;\n",
       "    }\n",
       "\n",
       "    .dataframe thead th {\n",
       "        text-align: right;\n",
       "    }\n",
       "</style>\n",
       "<table border=\"1\" class=\"dataframe\">\n",
       "  <thead>\n",
       "    <tr style=\"text-align: right;\">\n",
       "      <th></th>\n",
       "      <th>user_id</th>\n",
       "      <th>timestamp</th>\n",
       "      <th>group</th>\n",
       "      <th>landing_page</th>\n",
       "      <th>converted</th>\n",
       "    </tr>\n",
       "  </thead>\n",
       "  <tbody>\n",
       "    <tr>\n",
       "      <th>1899</th>\n",
       "      <td>773192</td>\n",
       "      <td>37:58.8</td>\n",
       "      <td>treatment</td>\n",
       "      <td>new_page</td>\n",
       "      <td>0</td>\n",
       "    </tr>\n",
       "    <tr>\n",
       "      <th>2893</th>\n",
       "      <td>773192</td>\n",
       "      <td>55:59.6</td>\n",
       "      <td>treatment</td>\n",
       "      <td>new_page</td>\n",
       "      <td>0</td>\n",
       "    </tr>\n",
       "  </tbody>\n",
       "</table>\n",
       "</div>"
      ],
      "text/plain": [
       "      user_id timestamp      group landing_page  converted\n",
       "1899   773192   37:58.8  treatment     new_page          0\n",
       "2893   773192   55:59.6  treatment     new_page          0"
      ]
     },
     "execution_count": 31,
     "metadata": {},
     "output_type": "execute_result"
    }
   ],
   "source": [
    "## We check if any user_id is duplicated.\n",
    "## Keep=False -- marks all duplicates\n",
    "## keep=\"first\" -- mark all duplicates except the first occurence\n",
    "## keep=\"last\" -- mark all duplicates except last occurence\n",
    "df2[df2.duplicated(['user_id'], keep=False)]"
   ]
  },
  {
   "cell_type": "code",
   "execution_count": 32,
   "id": "4c4fcf3f",
   "metadata": {},
   "outputs": [
    {
     "data": {
      "text/plain": [
       "(2, 5)"
      ]
     },
     "execution_count": 32,
     "metadata": {},
     "output_type": "execute_result"
    }
   ],
   "source": [
    "df2[df2.duplicated(['user_id'], keep=False)].shape"
   ]
  },
  {
   "cell_type": "code",
   "execution_count": 33,
   "id": "06d4490a",
   "metadata": {},
   "outputs": [],
   "source": [
    "## Here, I am going to remove all duplicate values except the first occurence in user_id column.\n",
    "## inplace=True -- means it will change our original dataframe df2.\n",
    "\n",
    "df2.drop_duplicates(subset ='user_id',keep ='first',inplace = True)"
   ]
  },
  {
   "cell_type": "code",
   "execution_count": 34,
   "id": "a3fae5e1",
   "metadata": {},
   "outputs": [
    {
     "data": {
      "text/html": [
       "<div>\n",
       "<style scoped>\n",
       "    .dataframe tbody tr th:only-of-type {\n",
       "        vertical-align: middle;\n",
       "    }\n",
       "\n",
       "    .dataframe tbody tr th {\n",
       "        vertical-align: top;\n",
       "    }\n",
       "\n",
       "    .dataframe thead th {\n",
       "        text-align: right;\n",
       "    }\n",
       "</style>\n",
       "<table border=\"1\" class=\"dataframe\">\n",
       "  <thead>\n",
       "    <tr style=\"text-align: right;\">\n",
       "      <th></th>\n",
       "      <th>user_id</th>\n",
       "      <th>timestamp</th>\n",
       "      <th>group</th>\n",
       "      <th>landing_page</th>\n",
       "      <th>converted</th>\n",
       "    </tr>\n",
       "  </thead>\n",
       "  <tbody>\n",
       "    <tr>\n",
       "      <th>0</th>\n",
       "      <td>851104</td>\n",
       "      <td>11:48.6</td>\n",
       "      <td>control</td>\n",
       "      <td>old_page</td>\n",
       "      <td>0</td>\n",
       "    </tr>\n",
       "    <tr>\n",
       "      <th>1</th>\n",
       "      <td>804228</td>\n",
       "      <td>01:45.2</td>\n",
       "      <td>control</td>\n",
       "      <td>old_page</td>\n",
       "      <td>0</td>\n",
       "    </tr>\n",
       "    <tr>\n",
       "      <th>2</th>\n",
       "      <td>661590</td>\n",
       "      <td>55:06.2</td>\n",
       "      <td>treatment</td>\n",
       "      <td>new_page</td>\n",
       "      <td>0</td>\n",
       "    </tr>\n",
       "    <tr>\n",
       "      <th>3</th>\n",
       "      <td>853541</td>\n",
       "      <td>28:03.1</td>\n",
       "      <td>treatment</td>\n",
       "      <td>new_page</td>\n",
       "      <td>0</td>\n",
       "    </tr>\n",
       "    <tr>\n",
       "      <th>4</th>\n",
       "      <td>864975</td>\n",
       "      <td>52:26.2</td>\n",
       "      <td>control</td>\n",
       "      <td>old_page</td>\n",
       "      <td>1</td>\n",
       "    </tr>\n",
       "  </tbody>\n",
       "</table>\n",
       "</div>"
      ],
      "text/plain": [
       "   user_id timestamp      group landing_page  converted\n",
       "0   851104   11:48.6    control     old_page          0\n",
       "1   804228   01:45.2    control     old_page          0\n",
       "2   661590   55:06.2  treatment     new_page          0\n",
       "3   853541   28:03.1  treatment     new_page          0\n",
       "4   864975   52:26.2    control     old_page          1"
      ]
     },
     "execution_count": 34,
     "metadata": {},
     "output_type": "execute_result"
    }
   ],
   "source": [
    "df2.head()"
   ]
  },
  {
   "cell_type": "code",
   "execution_count": 38,
   "id": "e66fe3aa",
   "metadata": {},
   "outputs": [
    {
     "name": "stdout",
     "output_type": "stream",
     "text": [
      "<class 'pandas.core.frame.DataFrame'>\n",
      "Int64Index: 290584 entries, 0 to 294477\n",
      "Data columns (total 5 columns):\n",
      " #   Column        Non-Null Count   Dtype \n",
      "---  ------        --------------   ----- \n",
      " 0   user_id       290584 non-null  int64 \n",
      " 1   timestamp     290584 non-null  object\n",
      " 2   group         290584 non-null  object\n",
      " 3   landing_page  290584 non-null  object\n",
      " 4   converted     290584 non-null  int64 \n",
      "dtypes: int64(2), object(3)\n",
      "memory usage: 13.3+ MB\n"
     ]
    }
   ],
   "source": [
    "df2.info()"
   ]
  },
  {
   "cell_type": "code",
   "execution_count": 42,
   "id": "34cd6679",
   "metadata": {},
   "outputs": [
    {
     "data": {
      "text/html": [
       "<div>\n",
       "<style scoped>\n",
       "    .dataframe tbody tr th:only-of-type {\n",
       "        vertical-align: middle;\n",
       "    }\n",
       "\n",
       "    .dataframe tbody tr th {\n",
       "        vertical-align: top;\n",
       "    }\n",
       "\n",
       "    .dataframe thead th {\n",
       "        text-align: right;\n",
       "    }\n",
       "</style>\n",
       "<table border=\"1\" class=\"dataframe\">\n",
       "  <thead>\n",
       "    <tr style=\"text-align: right;\">\n",
       "      <th></th>\n",
       "      <th>count</th>\n",
       "      <th>mean</th>\n",
       "      <th>std</th>\n",
       "      <th>min</th>\n",
       "      <th>25%</th>\n",
       "      <th>50%</th>\n",
       "      <th>75%</th>\n",
       "      <th>max</th>\n",
       "    </tr>\n",
       "  </thead>\n",
       "  <tbody>\n",
       "    <tr>\n",
       "      <th>user_id</th>\n",
       "      <td>290584.0</td>\n",
       "      <td>788004.876222</td>\n",
       "      <td>91224.735468</td>\n",
       "      <td>630000.0</td>\n",
       "      <td>709034.75</td>\n",
       "      <td>787995.5</td>\n",
       "      <td>866956.25</td>\n",
       "      <td>945999.0</td>\n",
       "    </tr>\n",
       "    <tr>\n",
       "      <th>converted</th>\n",
       "      <td>290584.0</td>\n",
       "      <td>0.119597</td>\n",
       "      <td>0.324490</td>\n",
       "      <td>0.0</td>\n",
       "      <td>0.00</td>\n",
       "      <td>0.0</td>\n",
       "      <td>0.00</td>\n",
       "      <td>1.0</td>\n",
       "    </tr>\n",
       "  </tbody>\n",
       "</table>\n",
       "</div>"
      ],
      "text/plain": [
       "              count           mean           std       min        25%  \\\n",
       "user_id    290584.0  788004.876222  91224.735468  630000.0  709034.75   \n",
       "converted  290584.0       0.119597      0.324490       0.0       0.00   \n",
       "\n",
       "                50%        75%       max  \n",
       "user_id    787995.5  866956.25  945999.0  \n",
       "converted       0.0       0.00       1.0  "
      ]
     },
     "execution_count": 42,
     "metadata": {},
     "output_type": "execute_result"
    }
   ],
   "source": [
    "## Notice how it calculates mean for all numerical columns. \n",
    "## *** USER_IDs dont have a mean !***\n",
    "df2.describe().T"
   ]
  },
  {
   "cell_type": "markdown",
   "id": "41871b1d",
   "metadata": {},
   "source": [
    "***What is the probability of an individual converting regardless of the page they receive?***\n",
    "\n",
    "We use query function which works as a filter if and only if column names dont have space in them.\n",
    "\n",
    "--> Probablity is defined as = No. of favourable outcomes / Total number of outcomes.\n",
    "\n",
    "Here:\n",
    "    \n",
    "--> Number of conversions/Number of observations of the test"
   ]
  },
  {
   "cell_type": "code",
   "execution_count": 47,
   "id": "2a4e3ba1",
   "metadata": {},
   "outputs": [
    {
     "data": {
      "text/plain": [
       "34753"
      ]
     },
     "execution_count": 47,
     "metadata": {},
     "output_type": "execute_result"
    }
   ],
   "source": [
    "##We are filtering all values which show a conversion - and counting how many are there.\n",
    "##\"converted\" comes again in the query line just to give a single value , if you dont mention that ,\n",
    "##it shows the count in all columns which is essentially the same.\n",
    "\n",
    "\n",
    "df2.query('converted == 1').converted.count() ##Number of conversions"
   ]
  },
  {
   "cell_type": "code",
   "execution_count": 48,
   "id": "326aa006",
   "metadata": {},
   "outputs": [
    {
     "data": {
      "text/plain": [
       "290584"
      ]
     },
     "execution_count": 48,
     "metadata": {},
     "output_type": "execute_result"
    }
   ],
   "source": [
    "df2.shape[0] ##Total observations after removing duplicates."
   ]
  },
  {
   "cell_type": "code",
   "execution_count": 49,
   "id": "3d887cb2",
   "metadata": {},
   "outputs": [
    {
     "data": {
      "text/plain": [
       "0.11959708724499628"
      ]
     },
     "execution_count": 49,
     "metadata": {},
     "output_type": "execute_result"
    }
   ],
   "source": [
    "##Probablity is:\n",
    "(df2.query('converted == 1').converted.count())/df2.shape[0]"
   ]
  },
  {
   "cell_type": "code",
   "execution_count": 53,
   "id": "310d0fd6",
   "metadata": {},
   "outputs": [
    {
     "data": {
      "text/plain": [
       "0.11965919355605512"
      ]
     },
     "execution_count": 53,
     "metadata": {},
     "output_type": "execute_result"
    }
   ],
   "source": [
    "(df[\"converted\"]==1).mean()"
   ]
  },
  {
   "cell_type": "markdown",
   "id": "a3d3b224",
   "metadata": {},
   "source": [
    "***Given that an individual was in the control group, what is the probability they converted?***\n"
   ]
  },
  {
   "cell_type": "code",
   "execution_count": 54,
   "id": "c6b13688",
   "metadata": {},
   "outputs": [],
   "source": [
    "## We are creating a new database which has indivuals from control group , landing page type isnt considered.\n",
    "control_df = df2.query('group ==\"control\"')\n"
   ]
  },
  {
   "cell_type": "code",
   "execution_count": 55,
   "id": "62b534c8",
   "metadata": {},
   "outputs": [
    {
     "data": {
      "text/html": [
       "<div>\n",
       "<style scoped>\n",
       "    .dataframe tbody tr th:only-of-type {\n",
       "        vertical-align: middle;\n",
       "    }\n",
       "\n",
       "    .dataframe tbody tr th {\n",
       "        vertical-align: top;\n",
       "    }\n",
       "\n",
       "    .dataframe thead th {\n",
       "        text-align: right;\n",
       "    }\n",
       "</style>\n",
       "<table border=\"1\" class=\"dataframe\">\n",
       "  <thead>\n",
       "    <tr style=\"text-align: right;\">\n",
       "      <th></th>\n",
       "      <th>user_id</th>\n",
       "      <th>timestamp</th>\n",
       "      <th>group</th>\n",
       "      <th>landing_page</th>\n",
       "      <th>converted</th>\n",
       "    </tr>\n",
       "  </thead>\n",
       "  <tbody>\n",
       "    <tr>\n",
       "      <th>0</th>\n",
       "      <td>851104</td>\n",
       "      <td>11:48.6</td>\n",
       "      <td>control</td>\n",
       "      <td>old_page</td>\n",
       "      <td>0</td>\n",
       "    </tr>\n",
       "    <tr>\n",
       "      <th>1</th>\n",
       "      <td>804228</td>\n",
       "      <td>01:45.2</td>\n",
       "      <td>control</td>\n",
       "      <td>old_page</td>\n",
       "      <td>0</td>\n",
       "    </tr>\n",
       "    <tr>\n",
       "      <th>4</th>\n",
       "      <td>864975</td>\n",
       "      <td>52:26.2</td>\n",
       "      <td>control</td>\n",
       "      <td>old_page</td>\n",
       "      <td>1</td>\n",
       "    </tr>\n",
       "    <tr>\n",
       "      <th>5</th>\n",
       "      <td>936923</td>\n",
       "      <td>20:49.1</td>\n",
       "      <td>control</td>\n",
       "      <td>old_page</td>\n",
       "      <td>0</td>\n",
       "    </tr>\n",
       "    <tr>\n",
       "      <th>7</th>\n",
       "      <td>719014</td>\n",
       "      <td>48:29.5</td>\n",
       "      <td>control</td>\n",
       "      <td>old_page</td>\n",
       "      <td>0</td>\n",
       "    </tr>\n",
       "    <tr>\n",
       "      <th>...</th>\n",
       "      <td>...</td>\n",
       "      <td>...</td>\n",
       "      <td>...</td>\n",
       "      <td>...</td>\n",
       "      <td>...</td>\n",
       "    </tr>\n",
       "    <tr>\n",
       "      <th>294471</th>\n",
       "      <td>718310</td>\n",
       "      <td>44:20.4</td>\n",
       "      <td>control</td>\n",
       "      <td>old_page</td>\n",
       "      <td>0</td>\n",
       "    </tr>\n",
       "    <tr>\n",
       "      <th>294473</th>\n",
       "      <td>751197</td>\n",
       "      <td>28:38.6</td>\n",
       "      <td>control</td>\n",
       "      <td>old_page</td>\n",
       "      <td>0</td>\n",
       "    </tr>\n",
       "    <tr>\n",
       "      <th>294474</th>\n",
       "      <td>945152</td>\n",
       "      <td>51:57.1</td>\n",
       "      <td>control</td>\n",
       "      <td>old_page</td>\n",
       "      <td>0</td>\n",
       "    </tr>\n",
       "    <tr>\n",
       "      <th>294475</th>\n",
       "      <td>734608</td>\n",
       "      <td>45:03.4</td>\n",
       "      <td>control</td>\n",
       "      <td>old_page</td>\n",
       "      <td>0</td>\n",
       "    </tr>\n",
       "    <tr>\n",
       "      <th>294476</th>\n",
       "      <td>697314</td>\n",
       "      <td>20:29.0</td>\n",
       "      <td>control</td>\n",
       "      <td>old_page</td>\n",
       "      <td>0</td>\n",
       "    </tr>\n",
       "  </tbody>\n",
       "</table>\n",
       "<p>145274 rows × 5 columns</p>\n",
       "</div>"
      ],
      "text/plain": [
       "        user_id timestamp    group landing_page  converted\n",
       "0        851104   11:48.6  control     old_page          0\n",
       "1        804228   01:45.2  control     old_page          0\n",
       "4        864975   52:26.2  control     old_page          1\n",
       "5        936923   20:49.1  control     old_page          0\n",
       "7        719014   48:29.5  control     old_page          0\n",
       "...         ...       ...      ...          ...        ...\n",
       "294471   718310   44:20.4  control     old_page          0\n",
       "294473   751197   28:38.6  control     old_page          0\n",
       "294474   945152   51:57.1  control     old_page          0\n",
       "294475   734608   45:03.4  control     old_page          0\n",
       "294476   697314   20:29.0  control     old_page          0\n",
       "\n",
       "[145274 rows x 5 columns]"
      ]
     },
     "execution_count": 55,
     "metadata": {},
     "output_type": "execute_result"
    }
   ],
   "source": [
    "control_df"
   ]
  },
  {
   "cell_type": "code",
   "execution_count": 56,
   "id": "29717418",
   "metadata": {},
   "outputs": [
    {
     "data": {
      "text/plain": [
       "0.1203863045004612"
      ]
     },
     "execution_count": 56,
     "metadata": {},
     "output_type": "execute_result"
    }
   ],
   "source": [
    "Pold = control_df['converted'].mean()\n",
    "Pold"
   ]
  },
  {
   "cell_type": "code",
   "execution_count": 67,
   "id": "1c3a8d4d",
   "metadata": {},
   "outputs": [
    {
     "data": {
      "text/html": [
       "<div>\n",
       "<style scoped>\n",
       "    .dataframe tbody tr th:only-of-type {\n",
       "        vertical-align: middle;\n",
       "    }\n",
       "\n",
       "    .dataframe tbody tr th {\n",
       "        vertical-align: top;\n",
       "    }\n",
       "\n",
       "    .dataframe thead th {\n",
       "        text-align: right;\n",
       "    }\n",
       "</style>\n",
       "<table border=\"1\" class=\"dataframe\">\n",
       "  <thead>\n",
       "    <tr style=\"text-align: right;\">\n",
       "      <th></th>\n",
       "      <th></th>\n",
       "      <th>user_id</th>\n",
       "      <th>timestamp</th>\n",
       "      <th>converted</th>\n",
       "    </tr>\n",
       "    <tr>\n",
       "      <th>group</th>\n",
       "      <th>landing_page</th>\n",
       "      <th></th>\n",
       "      <th></th>\n",
       "      <th></th>\n",
       "    </tr>\n",
       "  </thead>\n",
       "  <tbody>\n",
       "    <tr>\n",
       "      <th>control</th>\n",
       "      <th>old_page</th>\n",
       "      <td>145274</td>\n",
       "      <td>145274</td>\n",
       "      <td>145274</td>\n",
       "    </tr>\n",
       "  </tbody>\n",
       "</table>\n",
       "</div>"
      ],
      "text/plain": [
       "                      user_id  timestamp  converted\n",
       "group   landing_page                               \n",
       "control old_page       145274     145274     145274"
      ]
     },
     "execution_count": 67,
     "metadata": {},
     "output_type": "execute_result"
    }
   ],
   "source": [
    "control_df.groupby([\"group\",\"landing_page\"]).count()"
   ]
  },
  {
   "cell_type": "markdown",
   "id": "1c4b7572",
   "metadata": {},
   "source": [
    "***Why did you create the variable \"Pnew\"?***\n",
    "\n",
    "We are trying to understand if the probablity of conversion is more."
   ]
  },
  {
   "cell_type": "markdown",
   "id": "457c9bcb",
   "metadata": {},
   "source": [
    "***Given that an individual was in the treatment group, what is the probability they converted?***"
   ]
  },
  {
   "cell_type": "code",
   "execution_count": 68,
   "id": "e535b3f9",
   "metadata": {},
   "outputs": [],
   "source": [
    "treatment_df = df2.query('group ==\"treatment\"')\n",
    "Pnew = treatment_df['converted'].mean()"
   ]
  },
  {
   "cell_type": "code",
   "execution_count": 69,
   "id": "e8716c2f",
   "metadata": {},
   "outputs": [
    {
     "data": {
      "text/plain": [
       "0.11880806551510564"
      ]
     },
     "execution_count": 69,
     "metadata": {},
     "output_type": "execute_result"
    }
   ],
   "source": [
    "Pnew "
   ]
  },
  {
   "cell_type": "markdown",
   "id": "9fdc594e",
   "metadata": {},
   "source": [
    "***What is the probability that an individual received the new page?***\n",
    "\n",
    "\n",
    "Probability that an individual received the new page = No. of conversions on new_page/Total no. of new_page users"
   ]
  },
  {
   "cell_type": "code",
   "execution_count": 71,
   "id": "85fd5986",
   "metadata": {},
   "outputs": [
    {
     "data": {
      "text/plain": [
       "0.5000619442226688"
      ]
     },
     "execution_count": 71,
     "metadata": {},
     "output_type": "execute_result"
    }
   ],
   "source": [
    "df2.query('landing_page == \"new_page\"').landing_page.count()/df2.shape[0]"
   ]
  },
  {
   "cell_type": "markdown",
   "id": "d4ab008d",
   "metadata": {},
   "source": [
    "# Consider your results from the questions above, and explain below whether you think there is sufficient evidence to conclude that the new treatment page leads to more conversions. Please enter your answer in a new code block below and submit both the pdf and ipynb file to receive full credit."
   ]
  },
  {
   "cell_type": "markdown",
   "id": "a98693a8",
   "metadata": {},
   "source": [
    "Here, we have not considered the landing page is.Pold is 0.12 whereas the Pnew is 0.118. \n",
    "The probablity of a person picked from either of the groups is almost the same and does not make much difference for us to determine if the new landing page is any good , as we dont know which is better.\n",
    "Therefore, we may need to perform more analysis."
   ]
  },
  {
   "cell_type": "code",
   "execution_count": null,
   "id": "e0c5ecc6",
   "metadata": {},
   "outputs": [],
   "source": []
  }
 ],
 "metadata": {
  "kernelspec": {
   "display_name": "Python 3",
   "language": "python",
   "name": "python3"
  },
  "language_info": {
   "codemirror_mode": {
    "name": "ipython",
    "version": 3
   },
   "file_extension": ".py",
   "mimetype": "text/x-python",
   "name": "python",
   "nbconvert_exporter": "python",
   "pygments_lexer": "ipython3",
   "version": "3.8.8"
  }
 },
 "nbformat": 4,
 "nbformat_minor": 5
}
