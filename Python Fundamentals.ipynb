{
 "cells": [
  {
   "cell_type": "markdown",
   "metadata": {},
   "source": [
    "# <center><font color=green>Fundamentals of Programming: </font> </center>  \n",
    "# <center><font color=green>Programming for Data Science with Python </font> </center>\n",
    "\n",
    "\n",
    "\n",
    "## 1. Identifiers\n",
    "### Overview\n",
    "- Identifiers are the names that identify the elements of a program such as classes, methods, variables, constants, etc.\n",
    " - Identifiers can be variables or constants in a program.\n",
    " - Identifiers or names are case sensitive.\n",
    " - They can contain letters, digits (or numbers), and underscore.\n",
    " - However, they cannot start with digits or numbers.\n",
    "\n",
    "<font color=red> **IMPORTANT NOTES:** </font>\n",
    " - Reserved words cannot be used as identifiers.\n",
    " - Here is the list of some reserved words in Python:\n",
    ">and, assert, break, class, continue, def, del, elid, else, except, exec, finally, for, from, global, if, import, in, is, lambda, not, or, pass, print, raise, return, try, while\n",
    "\n",
    "### <font color=red> **Run the following code:** </font>"
   ]
  },
  {
   "cell_type": "code",
   "execution_count": 3,
   "metadata": {
    "scrolled": true
   },
   "outputs": [
    {
     "name": "stdout",
     "output_type": "stream",
     "text": [
      "x is a variable. It is an identifier. Its value is:  3 \n",
      "\n",
      "Data type of x:  <class 'int'> \n",
      "\n",
      "stdName is a variable. It is an identifier. Its value is:  John Smith \n",
      "\n",
      "Data type of stdName:  <class 'str'> \n",
      "\n"
     ]
    }
   ],
   "source": [
    "# x is a name of a variable. x is an identifier.\n",
    "x = 3\n",
    "\n",
    "print (\"x is a variable. It is an identifier. Its value is: \",x, \"\\n\")\n",
    "print(\"Data type of x: \", type (x), '\\n')\n",
    "\n",
    "#stdName is a name of a variable that represents the name of a student.\n",
    "#stdName is an identifier\n",
    "\n",
    "stdName = \"John Smith\"\n",
    "\n",
    "print (\"stdName is a variable. It is an identifier. Its value is: \", stdName, \"\\n\")\n",
    "print(\"Data type of stdName: \", type (stdName), '\\n')"
   ]
  },
  {
   "cell_type": "markdown",
   "metadata": {},
   "source": [
    "### 1.1  Variables:  Data - Data Containers - Data Types\n",
    "\n",
    "###### Varaibles are data containers whose values are likely to be changed along the course of executing a program."
   ]
  },
  {
   "cell_type": "markdown",
   "metadata": {},
   "source": [
    "#### Variable/Identifier x:\n",
    "\n",
    " - x is an identifier. It is a ***variable.***\n",
    " - its value is 3: 3 is ***data***\n",
    " - The variable (identifier) x is the ***data container*** that contains the piece of data \"3\".\n",
    " - ***Data type*** of x is \"int\"\n",
    "        "
   ]
  },
  {
   "cell_type": "markdown",
   "metadata": {},
   "source": [
    "### <font color=red> **Run the following code:** </font>"
   ]
  },
  {
   "cell_type": "code",
   "execution_count": 4,
   "metadata": {},
   "outputs": [
    {
     "name": "stdout",
     "output_type": "stream",
     "text": [
      "x is a variable. It is an identifier. Its value is:  3 \n",
      "\n",
      "Data type of x:  <class 'int'> \n",
      "\n"
     ]
    }
   ],
   "source": [
    "# x is a name of a variable. x is an identifier.\n",
    "x = 3\n",
    "print (\"x is a variable. It is an identifier. Its value is: \", x, \"\\n\")\n",
    "print(\"Data type of x: \", type(x), '\\n')"
   ]
  },
  {
   "cell_type": "markdown",
   "metadata": {},
   "source": [
    "#### Variable/Identifier stdName:\n",
    "\n",
    " - ***stdName*** is an ***identifier***. It is a ***variable***.\n",
    "\n",
    " - Its ***value*** is \"john Smith\": \"JohN Smith\" is ***data***.\n",
    "\n",
    " - The ***variable (identifier)*** stdName is the ***data container*** that contains the piece of data \"John Smith\".\n",
    "\n",
    " - ***Data*** type of stdName is \"str\" (or String)\n",
    "\n",
    "<font color=red>IMPORTANT NOTES:</font> \n",
    " - In Python, identifiers are unlimited in length. Case is significant. \n",
    " - However, the user is strongly discouraged from using a very long name to label variables. Besides, the names should be meaningful."
   ]
  },
  {
   "cell_type": "markdown",
   "metadata": {},
   "source": [
    "### <font color=red> **Run the following code:** </font>"
   ]
  },
  {
   "cell_type": "code",
   "execution_count": 5,
   "metadata": {},
   "outputs": [
    {
     "name": "stdout",
     "output_type": "stream",
     "text": [
      "stdName is a variable. It is an identifier. Its value is:  John Smith \n",
      "\n",
      "Data type of stdName:  <class 'str'> \n",
      "\n"
     ]
    }
   ],
   "source": [
    "#stdName is a name of a variable that represents the name of a student.\n",
    "#stdName is an identifier\n",
    "std = \"John Smith\"\n",
    "print (\"stdName is a variable. It is an identifier. Its value is: \", stdName, \"\\n\")\n",
    "print(\"Data type of stdName: \", type (stdName), '\\n')"
   ]
  },
  {
   "cell_type": "markdown",
   "metadata": {},
   "source": [
    " ### 1.2.  Constants\n",
    " \n",
    " Constants are data containers that contain permanent values, i.e., these values cannot be changed, along the course of executing a program."
   ]
  },
  {
   "cell_type": "markdown",
   "metadata": {},
   "source": [
    " <hr style=\"border:5px solid green\"> </hr>"
   ]
  },
  {
   "cell_type": "markdown",
   "metadata": {},
   "source": [
    "## 2. Assignments\n",
    "### Overview\n",
    " \n",
    " ***Binding a variable*** in Python means setting a name to hold a ***reference*** to some object. \n",
    "  - Assignments creates references, not copies.\n",
    " \n",
    " Names in Python do not have an intrinsic type. ***Objects have types***.\n",
    "  - Python determines the ***type of the reference*** automatically based on the ***data object*** assigned to it.\n",
    "  \n",
    "  A name is created when it appears the first time on the left side of an assignment expression:\n",
    "  > x = 3\n",
    "  \n",
    "  A ***reference is deleted*** via garbage collection when NO variables or identifiers are referring to it.\n",
    "  \n",
    "### 2.1. Reference Sematic in Python\n",
    "  \n",
    "#### Overview: The process of assigning a value\n",
    "  \n",
    "  What happens when we type: x = 3?\n",
    "  \n",
    "   - First, an integer 3 is created and stored in memory\n",
    "   - Then a name is created\n",
    "   - Next, a reference to the memory location storing the 3 is assigned to the name x\n",
    "   \n",
    "   \n",
    "### 2.2 Assignment manipulates references\n",
    " - y = x: An assignment of x to y\n",
    " - y = x: The assignemnt does not make a copy of the value of x.\n",
    " - y = x: The assignment makes y refer to the same object as x does.\n",
    "   \n",
    ">Let's say you assign x = 3\n",
    " \n",
    ">And then you assign y = x  \n",
    "\n",
    "When you assign y = x, you now have y = 3 since x = 3 (Run the code below.)\n",
    "\n"
   ]
  },
  {
   "cell_type": "markdown",
   "metadata": {},
   "source": [
    "### <font color=red> **Run the following code:** </font>"
   ]
  },
  {
   "cell_type": "code",
   "execution_count": 6,
   "metadata": {},
   "outputs": [
    {
     "data": {
      "text/plain": [
       "3"
      ]
     },
     "execution_count": 6,
     "metadata": {},
     "output_type": "execute_result"
    }
   ],
   "source": [
    "x=3\n",
    "\n",
    "y=x\n",
    "\n",
    "y"
   ]
  },
  {
   "cell_type": "markdown",
   "metadata": {},
   "source": [
    " <hr style=\"border:5px solid green\"> </hr>"
   ]
  },
  {
   "cell_type": "markdown",
   "metadata": {},
   "source": [
    "## 3. Operators and Operations"
   ]
  },
  {
   "cell_type": "markdown",
   "metadata": {},
   "source": [
    "### 3.1 Numeric Operations\n",
    "| <font size=4>Operator</font> | <font size=4>Operation</font>&nbsp;&nbsp;&nbsp;&nbsp;&nbsp;&nbsp;&nbsp;&nbsp;&nbsp;&nbsp;&nbsp;&nbsp;   | <font size=4>Example</font>&nbsp;&nbsp;&nbsp;&nbsp;&nbsp;&nbsp;&nbsp;&nbsp;&nbsp;&nbsp;&nbsp;&nbsp;  | <font size=4>Result</font> |\n",
    "| :--- | :--            | :--     | :-     |\n",
    "|<font size=4>+</font>     |<font size=4>Addition</font>        |<font size=4>33 + 3</font>   | <font size=4>36</font>     |\n",
    "|<font size=4>- </font>    |<font size=4>Subtraction</font>&nbsp;&nbsp;&nbsp;&nbsp;&nbsp;&nbsp;&nbsp;&nbsp;&nbsp;&nbsp;&nbsp;&nbsp;      |<font size=4>33 - 3</font>   | <font size=4>30</font>     |\n",
    "|<font size=4>* </font>    |<font size=4>Multiplication</font>  |<font size=4>33 * 3</font>&nbsp;&nbsp;&nbsp;&nbsp;&nbsp;&nbsp;&nbsp;&nbsp;&nbsp;&nbsp;&nbsp;&nbsp;    | <font size=4>99</font>     |\n",
    "|<font size=4>/</font>     |<font size=4>Division</font>        |<font size=4>11 / 3   | <font size=4>3.666  |\n",
    "|<font size=4>%</font>     |<font size=4>Remainder</font>       |<font size=4>33 % 3</font>   | <font size=4>0</font>      |\n",
    "|<font size=4>**</font>    |<font size=4>Exponent</font>        |<font size=4>33 ** 3</font>  | <font size=4>35937</font>  |\n",
    "|<font size=4>// </font>   |<font size=4>Floor</font>           |<font size=4>11 // 3</font>  |<font size=4> 3 </font>     |"
   ]
  },
  {
   "cell_type": "markdown",
   "metadata": {},
   "source": [
    "### 3.2 Augmented Operators\n",
    "| <font size=4>Operator</font> | <font size=4>Operation</font>&nbsp;&nbsp;&nbsp;&nbsp;&nbsp;&nbsp;&nbsp;&nbsp;&nbsp;&nbsp;&nbsp;&nbsp;   | <font size=4>Example</font>&nbsp;&nbsp;&nbsp;&nbsp;&nbsp;&nbsp;&nbsp;&nbsp;&nbsp;&nbsp;&nbsp;&nbsp;  | <font size=4>Result</font> |\n",
    "| :--- | :--            | :--     | :-     |\n",
    "|<font size=4>+=</font>     |<font size=4>Addition assignment</font>        |<font size=4>i += 8</font>   | <font size=4>i = i + 8</font>     |\n",
    "|<font size=4>-= </font>    |<font size=4>Subtraction assignment</font>     |<font size=4>i -= 8</font>   | <font size=4>i = i - 8</font>     |\n",
    "|<font size=4>*= </font>    |<font size=4>Multiplication assignment</font>&nbsp;&nbsp;&nbsp;&nbsp;&nbsp;&nbsp;&nbsp;&nbsp;&nbsp;&nbsp;&nbsp;&nbsp;   |<font size=4>i *= 8</font>   | <font size=4>i = i * 8</font>     |\n",
    "|<font size=4>/=</font>     |<font size=4>Division assignment</font>&nbsp;&nbsp;&nbsp;&nbsp;&nbsp;&nbsp;&nbsp;&nbsp;&nbsp;&nbsp;&nbsp;&nbsp;         |<font size=4>i /= 8   | <font size=4>i = i / 8  |\n",
    "|<font size=4>%=</font>     |<font size=4>Remainder assignment</font>       |<font size=4>i %= 8</font>   | <font size=4>i = i % 8      |\n",
    "|<font size=4>**=</font>    |<font size=4>Exponent assignment</font>        |<font size=4>i **= 8</font>  | <font size=4>i = i ** 8</font>  |\n",
    "|<font size=4>//= </font>   |<font size=4>Floor assignment</font>           |<font size=4>i //= 8</font>  |<font size=4> i = i // 8 </font>     |"
   ]
  },
  {
   "cell_type": "markdown",
   "metadata": {},
   "source": [
    "### 3.3 Relational Operators (a.k.a. Comparison Operators)\n",
    "\n",
    " - Relational operators, a.k.a. comparison operators, are used for comparisons.\n",
    " - A comparison, e.g. a>b, is called a conditional expression or boolean expression.\n",
    " - The result of a boolean expression is either True or False.\n",
    " \n",
    "|<font size=4>Operator</font>| <font size=4>Meaning</font>&nbsp;&nbsp;&nbsp;&nbsp;&nbsp;&nbsp;&nbsp;&nbsp;&nbsp;&nbsp;&nbsp;&nbsp;   | <font size=4>Example</font>     | <font size=4>Ex. Result</font> |\n",
    "| :--- | :--            | :----------|  ----:     |\n",
    "|<font size=4> (<) </font> |<font size=4>Less than</font>        |<font size=4>radius (<) 0 </font>     | <font size=4>False</font>     |\n",
    "|<font size=4>(=<) </font> |<font size=4>Less than or equal to&nbsp;&nbsp;&nbsp;&nbsp;&nbsp;&nbsp;&nbsp;&nbsp;&nbsp;&nbsp;&nbsp;&nbsp; </font>  |<font size=4>radius (<=) 0</font>     | <font size=4>True</font>     |\n",
    "|<font size=4>(>) </font> |<font size=4>Greater than</font>  |<font size=4>radius (>) 0</font>     | <font size=4>True</font>     |\n",
    "|<font size=4>(>=)</font> |<font size=4>Greater than or equal to</font>        |<font size=4>radius (>=) 0     | <font size=4>False </font>  |\n",
    "|<font size=4>(==)</font> |<font size=4>Equal to</font>       |<font size=4>radius (==) 0</font>     | <font size=4>True      |\n",
    "    |<font size=4>(!=)</font> |<font size=4>Not equal to</font>        |<font size=4>radius (!=) 0</font>    | <font size=4>False</font>  |\n"
   ]
  },
  {
   "cell_type": "markdown",
   "metadata": {},
   "source": [
    "### 3.4 Logical Operators\n",
    "    \n",
    "|<font size=4>Operator</font>&nbsp;&nbsp;&nbsp;&nbsp;&nbsp;&nbsp;&nbsp;&nbsp;| <font size=4>Meaning</font>&nbsp;&nbsp;&nbsp;&nbsp;&nbsp;&nbsp;&nbsp;&nbsp;&nbsp;&nbsp;&nbsp;&nbsp;  | <font size=4>Example</font> |    \n",
    "| :--- |:--------------| :----------| \n",
    "|<font size=4>not</font>&nbsp;&nbsp;&nbsp;&nbsp;&nbsp;&nbsp;&nbsp;&nbsp;|<font size=4>Opposite</font>&nbsp;&nbsp;&nbsp;&nbsp;&nbsp;&nbsp;&nbsp;&nbsp;&nbsp;&nbsp;&nbsp;&nbsp; |<font size=4>not (radius < 0) </font> | \n",
    "|<font size=4>and</font>|<font size=4>And</font>&nbsp;&nbsp;&nbsp;&nbsp;&nbsp;&nbsp;&nbsp;&nbsp;&nbsp;&nbsp;&nbsp;&nbsp;       |<font size=4>(a > b) or (c < d)</font>     | \n",
    "|<font size=4>or</font>|<font size=4> Or </font>&nbsp;&nbsp;&nbsp;&nbsp;&nbsp;&nbsp;&nbsp;&nbsp;&nbsp;&nbsp;&nbsp;&nbsp;       |<font size=4>(a > b) or (c < d)</font>    | \n",
    "\n",
    " "
   ]
  },
  {
   "cell_type": "markdown",
   "metadata": {},
   "source": [
    "#### 3.4.1 <font color=blue>not</font> Operators \n",
    "    \n",
    "|<font size=4>X</font>&nbsp;&nbsp;&nbsp;&nbsp;&nbsp;&nbsp;&nbsp;&nbsp;&nbsp;&nbsp;&nbsp;&nbsp;&nbsp;&nbsp;&nbsp;&nbsp;&nbsp;&nbsp;&nbsp;&nbsp;| <font size=4><font color=blue>not</font> X</font>&nbsp;&nbsp;&nbsp;&nbsp;&nbsp;&nbsp;&nbsp;&nbsp;&nbsp;&nbsp;&nbsp;&nbsp;  |     \n",
    "| :--- |--------------:| \n",
    "|<font size=4>True</font>&nbsp;&nbsp;&nbsp;&nbsp;&nbsp;&nbsp;&nbsp;&nbsp;&nbsp;&nbsp;&nbsp;&nbsp;&nbsp;&nbsp;&nbsp;&nbsp;&nbsp;&nbsp;&nbsp;&nbsp;|<font size=4>False</font>&nbsp;&nbsp;&nbsp;&nbsp;&nbsp;&nbsp;&nbsp;&nbsp;&nbsp;&nbsp;&nbsp;&nbsp; |\n",
    "|<font size=4>False</font>|<font size=4>True</font>&nbsp;&nbsp;&nbsp;&nbsp;&nbsp;&nbsp;&nbsp;&nbsp;&nbsp;&nbsp;&nbsp;&nbsp;       |"
   ]
  },
  {
   "cell_type": "markdown",
   "metadata": {},
   "source": [
    "#### 3.4.2  <font color=blue>and</font> Operators\n",
    "a and b ***is true** only when ***both a and b are true***.\n",
    "    \n",
    "|<font size=4>a</font>&nbsp;&nbsp;&nbsp;&nbsp;&nbsp;&nbsp;&nbsp;&nbsp;| <font size=4>b</font>&nbsp;&nbsp;&nbsp;&nbsp;&nbsp;&nbsp;&nbsp;&nbsp;&nbsp;&nbsp;&nbsp;&nbsp;  | <font size=4>a <font color=blue>&nbsp;&nbsp;and</font>&nbsp;&nbsp; b </font> |    \n",
    "| :--- |:--------------| :----------| \n",
    "|<font size=4>True</font>&nbsp;&nbsp;&nbsp;&nbsp;&nbsp;&nbsp;&nbsp;&nbsp;|<font size=4>True</font>&nbsp;&nbsp;&nbsp;&nbsp;&nbsp;&nbsp;&nbsp;&nbsp;&nbsp;&nbsp;&nbsp;&nbsp; |<font size=4>True </font> | \n",
    "|<font size=4>True</font>|<font size=4>False</font>&nbsp;&nbsp;&nbsp;&nbsp;&nbsp;&nbsp;&nbsp;&nbsp;&nbsp;&nbsp;&nbsp;&nbsp;       |<font size=4>False</font>     | \n",
    "|<font size=4>False</font>|<font size=4> True </font>&nbsp;&nbsp;&nbsp;&nbsp;&nbsp;&nbsp;&nbsp;&nbsp;&nbsp;&nbsp;&nbsp;&nbsp;       |<font size=4>False</font>    | \n",
    "|<font size=4>False</font>|<font size=4> False </font>&nbsp;&nbsp;&nbsp;&nbsp;&nbsp;&nbsp;&nbsp;&nbsp;&nbsp;&nbsp;&nbsp;&nbsp;       |<font size=4>False</font>    | "
   ]
  },
  {
   "cell_type": "markdown",
   "metadata": {},
   "source": [
    "#### 3.4.2  <font color=blue>or</font> Operators\n",
    "a or b ***is false*** only when ***both a and b are false***.\n",
    "    \n",
    "|<font size=4>a</font>&nbsp;&nbsp;&nbsp;&nbsp;&nbsp;&nbsp;&nbsp;&nbsp;| <font size=4>b</font>&nbsp;&nbsp;&nbsp;&nbsp;&nbsp;&nbsp;&nbsp;&nbsp;&nbsp;&nbsp;&nbsp;&nbsp;  | <font size=4>a <font color=blue>&nbsp;&nbsp;or</font>&nbsp;&nbsp; b </font> |    \n",
    "| :--- |:--------------| :----------| \n",
    "|<font size=4>True</font>&nbsp;&nbsp;&nbsp;&nbsp;&nbsp;&nbsp;&nbsp;&nbsp;|<font size=4>True</font>&nbsp;&nbsp;&nbsp;&nbsp;&nbsp;&nbsp;&nbsp;&nbsp;&nbsp;&nbsp;&nbsp;&nbsp; |<font size=4>True </font> | \n",
    "|<font size=4>True</font>|<font size=4>False</font>&nbsp;&nbsp;&nbsp;&nbsp;&nbsp;&nbsp;&nbsp;&nbsp;&nbsp;&nbsp;&nbsp;&nbsp;       |<font size=4>True</font>     | \n",
    "|<font size=4>False</font>|<font size=4> True </font>&nbsp;&nbsp;&nbsp;&nbsp;&nbsp;&nbsp;&nbsp;&nbsp;&nbsp;&nbsp;&nbsp;&nbsp;       |<font size=4>True</font>    | \n",
    "|<font size=4>False</font>|<font size=4> False </font>&nbsp;&nbsp;&nbsp;&nbsp;&nbsp;&nbsp;&nbsp;&nbsp;&nbsp;&nbsp;&nbsp;&nbsp;       |<font size=4>False</font>    | "
   ]
  },
  {
   "cell_type": "markdown",
   "metadata": {},
   "source": [
    "### 3.5 Identity Operators\n",
    "In Python, ***identity operators*** are used to check if the ***operands are identical***, i.e., they refer to the same object.\n",
    "\n",
    "|<font size=4>Operator</font>&nbsp;&nbsp;&nbsp;&nbsp;&nbsp;&nbsp;| <font size=4>Result</font>&nbsp;&nbsp;&nbsp;&nbsp;&nbsp;&nbsp;&nbsp;&nbsp;&nbsp;&nbsp;&nbsp;&nbsp;&nbsp;&nbsp;&nbsp;&nbsp;&nbsp;&nbsp;&nbsp;&nbsp;&nbsp;&nbsp;&nbsp;&nbsp;&nbsp;&nbsp;&nbsp;&nbsp;&nbsp;&nbsp;&nbsp;&nbsp;&nbsp;&nbsp;&nbsp;&nbsp;&nbsp;&nbsp;&nbsp;&nbsp;&nbsp;  | <font size=4>Example</font> |    \n",
    "| :--- |:--------------| :----------| \n",
    "|<font size=4>is</font>&nbsp;&nbsp;&nbsp;&nbsp;&nbsp;&nbsp;|<font size=4>True if the operands are identical, i.e., they refer to the same object</font>;&nbsp;&nbsp;&nbsp;&nbsp;&nbsp;&nbsp;&nbsp;&nbsp;&nbsp;&nbsp;&nbsp;&nbsp;&nbsp;&nbsp;&nbsp;&nbsp;&nbsp;&nbsp;&nbsp;&nbsp;&nbsp;&nbsp;&nbsp;&nbsp;&nbsp;&nbsp;&nbsp;&nbsp;&nbsp;&nbsp;&nbsp;&nbsp;&nbsp;&nbsp;&nbsp;&nbsp;&nbsp;&nbsp;&nbsp;&nbsp;&nbsp;&nbsp;&nbsp;&nbsp;&nbsp;&nbsp;&nbsp;&nbsp;&nbsp;&nbsp;&nbsp;&nbsp;&nbsp;&nbsp;&nbsp;&nbsp;&nbsp;&nbsp;&nbsp;&nbsp;&nbsp;&nbsp;&nbsp;&nbsp;&nbsp;|<font size=4>x is y </font> | \n",
    "|<font size=4>is not</font>|<font size=4>True if the operands are not identical, i.e., they do not refer to the same object</font>&nbsp;&nbsp;&nbsp;&nbsp;&nbsp;&nbsp;&nbsp;&nbsp;&nbsp;&nbsp;&nbsp;&nbsp;&nbsp;&nbsp;&nbsp;&nbsp;&nbsp;&nbsp;&nbsp;&nbsp;&nbsp;&nbsp;&nbsp;&nbsp;&nbsp;&nbsp;&nbsp;&nbsp;&nbsp;&nbsp;&nbsp;&nbsp;&nbsp;&nbsp;&nbsp;&nbsp;      |<font size=4>x is not y </font>     | \n"
   ]
  },
  {
   "cell_type": "markdown",
   "metadata": {},
   "source": [
    "### <font color=red> **Run the following 3 code blocks:** </font>"
   ]
  },
  {
   "cell_type": "code",
   "execution_count": 7,
   "metadata": {},
   "outputs": [
    {
     "name": "stdout",
     "output_type": "stream",
     "text": [
      "x is y\n"
     ]
    }
   ],
   "source": [
    "x = 5\n",
    "y = 5\n",
    "\n",
    "isTrue = \"x is y\"\n",
    "isFalse = \"x is not y\"\n",
    "\n",
    "if (x is y):\n",
    "    print (isTrue)\n",
    "else:\n",
    "        print (isFalse)"
   ]
  },
  {
   "cell_type": "code",
   "execution_count": 8,
   "metadata": {},
   "outputs": [
    {
     "name": "stdout",
     "output_type": "stream",
     "text": [
      "x is not y\n"
     ]
    }
   ],
   "source": [
    "x = 5\n",
    "y = 8\n",
    "\n",
    "isTrue = \"x is y\"\n",
    "isFalse = \"x is not y\"\n",
    "\n",
    "if (x is y):\n",
    "    print (isTrue)\n",
    "    \n",
    "else:\n",
    "    print (isFalse)"
   ]
  },
  {
   "cell_type": "code",
   "execution_count": null,
   "metadata": {},
   "outputs": [],
   "source": [
    "x = 5\n",
    "y = 5\n",
    "\n",
    "isTrue = \"x is y\"\n",
    "isFalse = \"x is not y\"\n",
    "\n",
    "if (x is not y):\n",
    "    print (isTrue)\n",
    "else:\n",
    "        print (isFalse)"
   ]
  },
  {
   "cell_type": "markdown",
   "metadata": {},
   "source": [
    "### 3.6 Membership Operators\n",
    "\n",
    "In Python, many data structures have their internal structure of a sequence, e.g., String, List, Tuple, etc.\n",
    "\n",
    "For example:\n",
    "\n",
    " - aString = \"Hello World\"\n",
    "\n",
    " - aList = [1,2,3,4,5]\n",
    "\n",
    " - aTuple = (1, 2, 3, 4, 5)\n",
    "\n",
    "***Membership operators*** - in, not in - are used to test ***if a value is found*** in a sequence or not.\n",
    "\n",
    "|<font size=4>Operator</font>&nbsp;&nbsp;&nbsp;&nbsp;&nbsp;&nbsp;| <font size=4>Result</font>&nbsp;&nbsp;&nbsp;&nbsp;&nbsp;&nbsp;&nbsp;&nbsp;&nbsp;&nbsp;&nbsp;&nbsp;&nbsp;&nbsp;&nbsp;&nbsp;&nbsp;&nbsp;&nbsp;&nbsp;&nbsp;&nbsp;&nbsp;&nbsp;&nbsp;&nbsp;&nbsp;&nbsp;&nbsp;&nbsp;&nbsp;&nbsp;&nbsp;&nbsp;&nbsp;&nbsp;&nbsp;&nbsp;&nbsp;&nbsp;&nbsp;  | <font size=4>Example</font> |    \n",
    "| :--- |:--------------| :----------| \n",
    "|<font size=4>in</font>&nbsp;&nbsp;&nbsp;&nbsp;&nbsp;&nbsp;|<font size=4>True if the value/variable is found in the sequence</font>;&nbsp;&nbsp;&nbsp;&nbsp;&nbsp;&nbsp;&nbsp;&nbsp;&nbsp;&nbsp;&nbsp;&nbsp;&nbsp;&nbsp;&nbsp;&nbsp;&nbsp;&nbsp;&nbsp;&nbsp;&nbsp;&nbsp;&nbsp;&nbsp;&nbsp;&nbsp;&nbsp;&nbsp;&nbsp;&nbsp;&nbsp;&nbsp;&nbsp;&nbsp;&nbsp;&nbsp;&nbsp;&nbsp;&nbsp;&nbsp;&nbsp;&nbsp;&nbsp;&nbsp;&nbsp;&nbsp;&nbsp;&nbsp;&nbsp;&nbsp;&nbsp;&nbsp;&nbsp;&nbsp;&nbsp;&nbsp;&nbsp;&nbsp;&nbsp;&nbsp;&nbsp;&nbsp;&nbsp;&nbsp;&nbsp;|<font size=4>x in y </font> | \n",
    "|<font size=4>not in </font>|<font size=4>True if the value/variable is not found in the sequence</font>&nbsp;&nbsp;&nbsp;&nbsp;&nbsp;&nbsp;&nbsp;&nbsp;&nbsp;&nbsp;&nbsp;&nbsp;&nbsp;&nbsp;&nbsp;&nbsp;&nbsp;&nbsp;&nbsp;&nbsp;&nbsp;&nbsp;&nbsp;&nbsp;&nbsp;&nbsp;&nbsp;&nbsp;&nbsp;&nbsp;&nbsp;&nbsp;&nbsp;&nbsp;&nbsp;&nbsp;      |<font size=4>x not in y </font>     | \n",
    "\n",
    "### <font color=red> **Run the following 2 code blocks:** </font>\n"
   ]
  },
  {
   "cell_type": "code",
   "execution_count": 9,
   "metadata": {},
   "outputs": [
    {
     "name": "stdout",
     "output_type": "stream",
     "text": [
      "H in x\n"
     ]
    }
   ],
   "source": [
    "x = 'Hello World'\n",
    "if ('H' in x):\n",
    "    print (\"H in x\")\n",
    "else:\n",
    "        print (\"H not in x\")"
   ]
  },
  {
   "cell_type": "code",
   "execution_count": 10,
   "metadata": {},
   "outputs": [
    {
     "ename": "SyntaxError",
     "evalue": "invalid syntax (<ipython-input-10-5c1470f6015e>, line 3)",
     "output_type": "error",
     "traceback": [
      "\u001b[1;36m  File \u001b[1;32m\"<ipython-input-10-5c1470f6015e>\"\u001b[1;36m, line \u001b[1;32m3\u001b[0m\n\u001b[1;33m    if (8 not isn aList):\u001b[0m\n\u001b[1;37m              ^\u001b[0m\n\u001b[1;31mSyntaxError\u001b[0m\u001b[1;31m:\u001b[0m invalid syntax\n"
     ]
    }
   ],
   "source": [
    "# You will get an error but think why you have an error.\n",
    "aList = [1, 2, 3, 4, 5]\n",
    "if (8 not isn aList):\n",
    "    print (\"8 not in aList\")\n",
    "else:\n",
    "        print (\"8 in aList\")"
   ]
  },
  {
   "cell_type": "markdown",
   "metadata": {},
   "source": [
    "<hr style=\"border:5px solid green\"> </hr>"
   ]
  },
  {
   "cell_type": "markdown",
   "metadata": {},
   "source": [
    "# ##CORRECTED CODE"
   ]
  },
  {
   "cell_type": "code",
   "execution_count": 11,
   "metadata": {},
   "outputs": [
    {
     "name": "stdout",
     "output_type": "stream",
     "text": [
      "8 not in aList\n"
     ]
    }
   ],
   "source": [
    "\n",
    "aList = [1, 2, 3, 4, 5]\n",
    "if (8 not in aList):\n",
    "    print (\"8 not in aList\")\n",
    "else:\n",
    "        print (\"8 in aList\")"
   ]
  },
  {
   "cell_type": "markdown",
   "metadata": {},
   "source": [
    "## 5. Pseudo-Code \n",
    "\n",
    "### 5.1 Scenario: A Problem\n",
    "\n",
    "It is assumed that a software developer is asked to write a Python program that can calculate and print the diameter and the circumference of a circle. The user enters the data of the radius and its measurement unit (in, ft, cm, or m) from the console.\n",
    "\n",
    "### 5.2 How to Solve the problem\n",
    "\n",
    " - First, we need to write pseudo-code (or create a flow-chart) of steps that can solve the problem. Formally, we design an algorithm that offers a solution to the problem.\n",
    " - Then, based on the steps of the pseudo-code/flowchart (or algorithm), we write the code of the program.\n",
    " \n",
    " These two step are the foundation of software engineering process.\n",
    " \n",
    "### 5.3 Pseudo-Code\n",
    " \n",
    " With pseudo-code, the developer writes down the steps to solve the problem in plain English.\n",
    " \n",
    " 1. Start\n",
    " 2. Read the input of the radius from the console\n",
    " 3. Read the measurement unit of the radius (in, ft, cm, m)\n",
    " 4. Calcualte the diameter of the circle\n",
    "     - diameter = 2*radius\n",
    " 5. Calcualte the circumference of the circle\n",
    "     - Circumference = diameter*PI (3.14159)\n",
    " 6. Print out the diameter\n",
    " 7. Print out the circumference\n",
    " 8. End\n",
    " "
   ]
  },
  {
   "cell_type": "markdown",
   "metadata": {},
   "source": [
    "# CODE PROVIDED BY DR. BOYCE"
   ]
  },
  {
   "cell_type": "code",
   "execution_count": 12,
   "metadata": {},
   "outputs": [
    {
     "name": "stdout",
     "output_type": "stream",
     "text": [
      "Enter the radius of a circle: \n",
      "4\n",
      "The diameter of a circle with a radius of 4.0 is: 8.0\n",
      "The circumference of a circle with radius of 4.0 is: 25.12\n",
      "The area of the circle with radius of 4.0 is: 50.24\n"
     ]
    }
   ],
   "source": [
    "PI = 3.14\n",
    "#r = float(input(\"Enter the radius of a circle:  \"))\n",
    "print (\"Enter the radius of a circle: \")\n",
    "r = float(input())\n",
    "diameter = 2*r\n",
    "circumference = 2 * PI * r\n",
    "area = PI *r * r\n",
    "print (\"The diameter of a circle with a radius of \" + str(r) + \" is:\", diameter)\n",
    "print (\"The circumference of a circle with radius of \" + str(r) + \" is:\", circumference)\n",
    "print (\"The area of the circle with radius of \" + str(r) + \" is:\", area )"
   ]
  },
  {
   "cell_type": "code",
   "execution_count": 13,
   "metadata": {
    "scrolled": true
   },
   "outputs": [],
   "source": [
    "##Code trial "
   ]
  },
  {
   "cell_type": "code",
   "execution_count": 1,
   "metadata": {},
   "outputs": [
    {
     "name": "stdout",
     "output_type": "stream",
     "text": [
      "Enter radius value:4\n",
      "Diameter is : 8.0\n",
      "Circumference is : 25.12\n",
      "Area is : 50.24\n"
     ]
    }
   ],
   "source": [
    "pi=3.14\n",
    "r=float(input(\"Enter radius value:\"))\n",
    "d=2*r\n",
    "circumference=2*pi*r\n",
    "area=pi*r*r\n",
    "print (\"Diameter is :\",d)\n",
    "print(\"Circumference is :\",circumference)\n",
    "print (\"Area is :\",area)\n"
   ]
  },
  {
   "cell_type": "markdown",
   "metadata": {},
   "source": [
    "<hr style=\"border:5px solid green\"> </hr>"
   ]
  },
  {
   "cell_type": "markdown",
   "metadata": {},
   "source": [
    "### 6. Comments\n",
    "\n",
    "In Python, comments begin with a hash mark (#), a whitespace character and continue to the end of the line.\n",
    "### <font color=red> **Run the following 4 code blocks:** </font>"
   ]
  },
  {
   "cell_type": "code",
   "execution_count": 14,
   "metadata": {},
   "outputs": [
    {
     "data": {
      "text/plain": [
       "3"
      ]
     },
     "execution_count": 14,
     "metadata": {},
     "output_type": "execute_result"
    }
   ],
   "source": [
    "# This is a comment\n",
    "x = 3\n",
    "x\n"
   ]
  },
  {
   "cell_type": "code",
   "execution_count": 15,
   "metadata": {},
   "outputs": [
    {
     "name": "stdout",
     "output_type": "stream",
     "text": [
      "Hello, World\n"
     ]
    }
   ],
   "source": [
    "# Print \"Hello World!\" to console\n",
    "print (\"Hello, World\")"
   ]
  },
  {
   "cell_type": "code",
   "execution_count": 16,
   "metadata": {},
   "outputs": [
    {
     "data": {
      "text/plain": [
       "3"
      ]
     },
     "execution_count": 16,
     "metadata": {},
     "output_type": "execute_result"
    }
   ],
   "source": [
    "# Inline comment\n",
    "x = 3 # This is an inline comment\n",
    "x"
   ]
  },
  {
   "cell_type": "code",
   "execution_count": 17,
   "metadata": {},
   "outputs": [
    {
     "data": {
      "text/plain": [
       "3"
      ]
     },
     "execution_count": 17,
     "metadata": {},
     "output_type": "execute_result"
    }
   ],
   "source": [
    "# This is a comment of multiple lines, also known as a block comment\n",
    "# Add another line of comment\n",
    "# Another line\n",
    "# And another line\n",
    "x = 3\n",
    "x"
   ]
  },
  {
   "cell_type": "markdown",
   "metadata": {},
   "source": [
    "<hr style=\"border:5px solid green\"> </hr>"
   ]
  }
 ],
 "metadata": {
  "kernelspec": {
   "display_name": "Python 3",
   "language": "python",
   "name": "python3"
  },
  "language_info": {
   "codemirror_mode": {
    "name": "ipython",
    "version": 3
   },
   "file_extension": ".py",
   "mimetype": "text/x-python",
   "name": "python",
   "nbconvert_exporter": "python",
   "pygments_lexer": "ipython3",
   "version": "3.8.8"
  }
 },
 "nbformat": 4,
 "nbformat_minor": 4
}
